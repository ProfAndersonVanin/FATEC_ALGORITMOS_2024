{
  "nbformat": 4,
  "nbformat_minor": 0,
  "metadata": {
    "colab": {
      "provenance": [],
      "authorship_tag": "ABX9TyPzS0Z0xToJGZZPjlZIWoKR",
      "include_colab_link": true
    },
    "kernelspec": {
      "name": "python3",
      "display_name": "Python 3"
    },
    "language_info": {
      "name": "python"
    }
  },
  "cells": [
    {
      "cell_type": "markdown",
      "metadata": {
        "id": "view-in-github",
        "colab_type": "text"
      },
      "source": [
        "<a href=\"https://colab.research.google.com/github/ProfAndersonVanin/FATEC_ALGORITMOS_2024/blob/main/Lista_2_La%C3%A7os_de_Repeti%C3%A7%C3%A3o.ipynb\" target=\"_parent\"><img src=\"https://colab.research.google.com/assets/colab-badge.svg\" alt=\"Open In Colab\"/></a>"
      ]
    },
    {
      "cell_type": "markdown",
      "source": [
        "1- Faça um programa que peça uma nota, entre zero e dez. Mostre uma mensagem caso o valor seja inválido e continue pedindo até que o usuário informe um valor válido."
      ],
      "metadata": {
        "id": "4xtRGDIMbF0z"
      }
    },
    {
      "cell_type": "code",
      "execution_count": null,
      "metadata": {
        "id": "nWgB0lvZa5xh"
      },
      "outputs": [],
      "source": [
        "# seu código aqui..."
      ]
    },
    {
      "cell_type": "markdown",
      "source": [
        "2- Faça um programa que leia um nome de usuário e a sua senha e não aceite a senha igual ao nome do usuário, mostrando uma mensagem de erro e voltando a pedir as informações."
      ],
      "metadata": {
        "id": "RIejwl4mbK7z"
      }
    },
    {
      "cell_type": "code",
      "source": [
        "# seu código aqui..."
      ],
      "metadata": {
        "id": "QVwlvuQDbREK"
      },
      "execution_count": null,
      "outputs": []
    },
    {
      "cell_type": "markdown",
      "source": [
        "3- Faça um programa que leia e valide as seguintes informações:\n",
        "*   Nome: maior que 3 caracteres;\n",
        "*   Idade: entre 0 e 150;\n",
        "*   Salário: maior que zero;\n",
        "*   Sexo: 'f' ou 'm';\n",
        "*   Estado Civil: 's', 'c', 'v', 'd';\n",
        "\n",
        "**Use a função `len(string)` para saber o tamanho de um texto (número de caracteres).**"
      ],
      "metadata": {
        "id": "IjjosQBibRzj"
      }
    },
    {
      "cell_type": "code",
      "source": [
        "# seu código aqui..."
      ],
      "metadata": {
        "id": "SZQsLLeMbtDS"
      },
      "execution_count": null,
      "outputs": []
    },
    {
      "cell_type": "markdown",
      "source": [
        "4- Supondo que a população de um país A seja da ordem de 80000 habitantes com uma taxa anual de crescimento de 3% e que a população de B seja 200000 habitantes com uma taxa de crescimento de 1.5%. Faça um programa que calcule e escreva o número de anos necessários para que a população do país A ultrapasse ou iguale a população do país B, mantidas as taxas de crescimento."
      ],
      "metadata": {
        "id": "yzuu9ZKubt1L"
      }
    },
    {
      "cell_type": "code",
      "source": [
        "# seu código aqui..."
      ],
      "metadata": {
        "id": "n_mSFkoqbzhb"
      },
      "execution_count": null,
      "outputs": []
    },
    {
      "cell_type": "markdown",
      "source": [
        "5- Altere o programa anterior permitindo ao usuário informar as populações e as taxas de crescimento iniciais. Valide a entrada e permita repetir a operação."
      ],
      "metadata": {
        "id": "6S1XgUIZb0ty"
      }
    },
    {
      "cell_type": "code",
      "source": [
        "# seu código aqui..."
      ],
      "metadata": {
        "id": "TdSmj33rcPLS"
      },
      "execution_count": null,
      "outputs": []
    },
    {
      "cell_type": "markdown",
      "source": [
        "6- Faça um programa que leia 5 números e informe a soma e a média dos números."
      ],
      "metadata": {
        "id": "h6Tf29KBcPxz"
      }
    },
    {
      "cell_type": "code",
      "source": [
        "# seu código aqui..."
      ],
      "metadata": {
        "id": "bo9EBxbfcXr5"
      },
      "execution_count": null,
      "outputs": []
    },
    {
      "cell_type": "markdown",
      "source": [
        "7- Faça um programa que receba dois números inteiros e gere os números inteiros que estão no intervalo compreendido por eles."
      ],
      "metadata": {
        "id": "vlg_Q0cGcYXS"
      }
    },
    {
      "cell_type": "code",
      "source": [
        "# seu código aqui..."
      ],
      "metadata": {
        "id": "QDjbRI91cdY6"
      },
      "execution_count": null,
      "outputs": []
    },
    {
      "cell_type": "markdown",
      "source": [
        "8- Altere o programa anterior para mostrar no final a soma dos números."
      ],
      "metadata": {
        "id": "x19NxgY8cd-6"
      }
    },
    {
      "cell_type": "code",
      "source": [
        "# seu código aqui..."
      ],
      "metadata": {
        "id": "BAJ0KSvVciHy"
      },
      "execution_count": null,
      "outputs": []
    },
    {
      "cell_type": "markdown",
      "source": [
        "9- Faça um programa que peça para n pessoas a sua idade, ao final o programa devera verificar se a média de idade da turma varia entre 0 e 25,26 e 60 e maior que 60; e então, dizer se a turma é jovem, adulta ou idosa, conforme a média calculada."
      ],
      "metadata": {
        "id": "7RbW-aJeci3q"
      }
    },
    {
      "cell_type": "code",
      "source": [
        "# seu código aqui..."
      ],
      "metadata": {
        "id": "wFZ0d96Wc0Oy"
      },
      "execution_count": null,
      "outputs": []
    },
    {
      "cell_type": "markdown",
      "source": [
        "10- Numa eleição existem três candidatos. Faça um programa que peça o número total de eleitores. Peça para cada eleitor votar e ao final mostrar o número de votos de cada candidato."
      ],
      "metadata": {
        "id": "NWJ9HcrRc1Qh"
      }
    },
    {
      "cell_type": "code",
      "source": [
        "# seu código aqui..."
      ],
      "metadata": {
        "id": "0p-RQr8Xc68K"
      },
      "execution_count": null,
      "outputs": []
    }
  ]
}